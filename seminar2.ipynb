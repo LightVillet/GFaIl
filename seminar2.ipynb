{
 "cells": [
  {
   "cell_type": "markdown",
   "metadata": {},
   "source": [
    "# Семинар 2: Introduction to Data Science \n",
    "\n",
    "Продолжаем вводиться в python. Сегодня порешаем более сложные задачки на базовые навыки, а также посмотрим на `pandas`."
   ]
  },
  {
   "cell_type": "markdown",
   "metadata": {},
   "source": [
    "## 1. Продолжаем решать проблемы Хоббитов.\n",
    "\n",
    "### Задача 1\n",
    "\n",
    "<img src=\"http://i0.kym-cdn.com/photos/images/original/001/187/255/5e9.gif\" width=300>\n",
    "\n",
    "В копях Мории хоббиты нашли стену, на которой высечены разные натуральные числа. Согласно древним сказаниям, это даты сражений. Но великие сражения происходили только по високосным годам. Помогите хоббитам определить, является ли год с данным числом датой великого сражения. Если это так, то выведите YOU SHALL PASS, иначе выведите YOU SHALL NOT PASS. Напомним, что в соответствии с хоббитским календарем, год является високосным, если его номер кратен 4, но не кратен 100, а также если он кратен 400.\n",
    "\n",
    "**Образец**\n",
    "\n",
    "Входные данные:<br />\n",
    "4<br />\n",
    "\n",
    "Вывод программы: <br />\n",
    "YOU SHALL PASS"
   ]
  },
  {
   "cell_type": "code",
   "execution_count": null,
   "metadata": {},
   "outputs": [],
   "source": [
    "# ваш код\n"
   ]
  },
  {
   "cell_type": "markdown",
   "metadata": {},
   "source": [
    "###  Задача 2\n",
    "\n",
    "По данному целому числу N найдите квадраты всех чисел, предшествующих N (включая N), в порядке убывания. Сделайте это как минимум двумя способами. (Никто не знает, зачем это понадобилось хоббитам).\n",
    "\n",
    "**Образец**\n",
    "\n",
    "Входные данные: <br />\n",
    "3\n",
    "\n",
    "Вывод программы: <br />\n",
    "9<br />\n",
    "4<br />\n",
    "1<br />"
   ]
  },
  {
   "cell_type": "code",
   "execution_count": 16,
   "metadata": {},
   "outputs": [
    {
     "name": "stdout",
     "output_type": "stream",
     "text": [
      "9\n",
      "4\n",
      "1\n"
     ]
    }
   ],
   "source": [
    "# ваш код \n",
    "x=3\n",
    "while x>0:\n",
    "        print(x**2)\n",
    "        x -=1\n",
    "        "
   ]
  },
  {
   "cell_type": "markdown",
   "metadata": {},
   "source": [
    "## 2. Библиотека Pandas\n",
    "\n",
    "\n",
    "![](http://tripkendall.com/wp-content/uploads/2018/01/pandas_logo-1080x675.jpg)\n",
    "\n",
    " - [Pandas](http://pandas.pydata.org/) - библиотека для обработки и анализа данных.\n",
    " \n",
    "Загрузка любой библиотеки выглядит следующим образом: <br /> \n",
    "**import** название [**as** псевдоним]\n",
    "\n",
    "Обычно список импортируемых библиотек задается в самом начале ноутбука, но мы тут с вами повторяли всякое былое, поэтому импортируем, где придется"
   ]
  },
  {
   "cell_type": "code",
   "execution_count": 27,
   "metadata": {},
   "outputs": [],
   "source": [
    "# для начала импортируем одну замечательную библиотеку\n",
    "import this\n"
   ]
  },
  {
   "cell_type": "code",
   "execution_count": 28,
   "metadata": {},
   "outputs": [],
   "source": [
    "# загрузили библиотеку и задали ее псевдоним, по которому далее к ней будем обращаться: pd\n",
    "import pandas as pd"
   ]
  },
  {
   "cell_type": "code",
   "execution_count": 29,
   "metadata": {},
   "outputs": [],
   "source": [
    "# команда, чтобы картинки прорисовывались прямо в jupyter\n",
    "%matplotlib inline"
   ]
  },
  {
   "cell_type": "markdown",
   "metadata": {},
   "source": [
    "Загружаем табличку с данными."
   ]
  },
  {
   "cell_type": "code",
   "execution_count": 30,
   "metadata": {
    "scrolled": true
   },
   "outputs": [],
   "source": [
    "data = pd.read_csv('data.csv')"
   ]
  },
  {
   "cell_type": "markdown",
   "metadata": {},
   "source": [
    "\n",
    "Выведем первые строки."
   ]
  },
  {
   "cell_type": "code",
   "execution_count": 31,
   "metadata": {},
   "outputs": [
    {
     "data": {
      "text/html": [
       "<div>\n",
       "<style scoped>\n",
       "    .dataframe tbody tr th:only-of-type {\n",
       "        vertical-align: middle;\n",
       "    }\n",
       "\n",
       "    .dataframe tbody tr th {\n",
       "        vertical-align: top;\n",
       "    }\n",
       "\n",
       "    .dataframe thead th {\n",
       "        text-align: right;\n",
       "    }\n",
       "</style>\n",
       "<table border=\"1\" class=\"dataframe\">\n",
       "  <thead>\n",
       "    <tr style=\"text-align: right;\">\n",
       "      <th></th>\n",
       "      <th>Country</th>\n",
       "      <th>Region</th>\n",
       "      <th>Sales Person</th>\n",
       "      <th>Date of Purchase</th>\n",
       "      <th>Total</th>\n",
       "      <th>Quantity</th>\n",
       "    </tr>\n",
       "  </thead>\n",
       "  <tbody>\n",
       "    <tr>\n",
       "      <th>0</th>\n",
       "      <td>India</td>\n",
       "      <td>North</td>\n",
       "      <td>John</td>\n",
       "      <td>2/1/2012 0:00:00</td>\n",
       "      <td>100000</td>\n",
       "      <td>567</td>\n",
       "    </tr>\n",
       "    <tr>\n",
       "      <th>1</th>\n",
       "      <td>US</td>\n",
       "      <td>North</td>\n",
       "      <td>Bill</td>\n",
       "      <td>4/16/2012 0:00:00</td>\n",
       "      <td>120000</td>\n",
       "      <td>3000</td>\n",
       "    </tr>\n",
       "    <tr>\n",
       "      <th>2</th>\n",
       "      <td>UK</td>\n",
       "      <td>North</td>\n",
       "      <td>Thomas</td>\n",
       "      <td>7/31/2014 0:00:00</td>\n",
       "      <td>140000</td>\n",
       "      <td>345</td>\n",
       "    </tr>\n",
       "    <tr>\n",
       "      <th>3</th>\n",
       "      <td>Australia</td>\n",
       "      <td>East</td>\n",
       "      <td>John</td>\n",
       "      <td>11/24/2012 0:00:00</td>\n",
       "      <td>160000</td>\n",
       "      <td>1000</td>\n",
       "    </tr>\n",
       "    <tr>\n",
       "      <th>4</th>\n",
       "      <td>Africa</td>\n",
       "      <td>East</td>\n",
       "      <td>Bill</td>\n",
       "      <td>6/11/2012 0:00:00</td>\n",
       "      <td>180000</td>\n",
       "      <td>123</td>\n",
       "    </tr>\n",
       "    <tr>\n",
       "      <th>5</th>\n",
       "      <td>Singapore</td>\n",
       "      <td>East</td>\n",
       "      <td>Thomas</td>\n",
       "      <td>4/24/2017 0:00:00</td>\n",
       "      <td>200000</td>\n",
       "      <td>1000</td>\n",
       "    </tr>\n",
       "    <tr>\n",
       "      <th>6</th>\n",
       "      <td>Mylasia</td>\n",
       "      <td>West</td>\n",
       "      <td>John</td>\n",
       "      <td>10/18/2013 0:00:00</td>\n",
       "      <td>1000000</td>\n",
       "      <td>7890</td>\n",
       "    </tr>\n",
       "    <tr>\n",
       "      <th>7</th>\n",
       "      <td>India</td>\n",
       "      <td>West</td>\n",
       "      <td>Bill</td>\n",
       "      <td>8/18/2018 0:00:00</td>\n",
       "      <td>240000</td>\n",
       "      <td>200</td>\n",
       "    </tr>\n",
       "    <tr>\n",
       "      <th>8</th>\n",
       "      <td>US</td>\n",
       "      <td>West</td>\n",
       "      <td>Thomas</td>\n",
       "      <td>12/25/2013 0:00:00</td>\n",
       "      <td>26000000</td>\n",
       "      <td>1000</td>\n",
       "    </tr>\n",
       "    <tr>\n",
       "      <th>9</th>\n",
       "      <td>UK</td>\n",
       "      <td>North</td>\n",
       "      <td>John</td>\n",
       "      <td>4/9/2016 0:00:00</td>\n",
       "      <td>100000</td>\n",
       "      <td>1000</td>\n",
       "    </tr>\n",
       "  </tbody>\n",
       "</table>\n",
       "</div>"
      ],
      "text/plain": [
       "     Country Region Sales Person    Date of Purchase     Total  Quantity\n",
       "0      India  North         John    2/1/2012 0:00:00    100000       567\n",
       "1         US  North         Bill   4/16/2012 0:00:00    120000      3000\n",
       "2         UK  North       Thomas   7/31/2014 0:00:00    140000       345\n",
       "3  Australia   East         John  11/24/2012 0:00:00    160000      1000\n",
       "4     Africa   East         Bill   6/11/2012 0:00:00    180000       123\n",
       "5  Singapore   East       Thomas   4/24/2017 0:00:00    200000      1000\n",
       "6    Mylasia   West         John  10/18/2013 0:00:00   1000000      7890\n",
       "7      India   West         Bill   8/18/2018 0:00:00    240000       200\n",
       "8         US   West       Thomas  12/25/2013 0:00:00  26000000      1000\n",
       "9         UK  North         John    4/9/2016 0:00:00    100000      1000"
      ]
     },
     "execution_count": 31,
     "metadata": {},
     "output_type": "execute_result"
    }
   ],
   "source": [
    "data.head(10)\n"
   ]
  },
  {
   "cell_type": "markdown",
   "metadata": {},
   "source": [
    "Посмотрим на типы колонок, которые есть в нашей таблице."
   ]
  },
  {
   "cell_type": "code",
   "execution_count": 32,
   "metadata": {},
   "outputs": [
    {
     "name": "stdout",
     "output_type": "stream",
     "text": [
      "<class 'pandas.core.frame.DataFrame'>\n",
      "RangeIndex: 20 entries, 0 to 19\n",
      "Data columns (total 6 columns):\n",
      "Country             20 non-null object\n",
      "Region              20 non-null object\n",
      "Sales Person        20 non-null object\n",
      "Date of Purchase    20 non-null object\n",
      "Total               20 non-null int64\n",
      "Quantity            20 non-null int64\n",
      "dtypes: int64(2), object(4)\n",
      "memory usage: 1.0+ KB\n"
     ]
    }
   ],
   "source": [
    "data.info()"
   ]
  },
  {
   "cell_type": "markdown",
   "metadata": {},
   "source": [
    "С такой же лёгкостью можно посмотреть на описательные статистики. Но про низ мы будем говорить через пару. "
   ]
  },
  {
   "cell_type": "code",
   "execution_count": 54,
   "metadata": {},
   "outputs": [
    {
     "data": {
      "text/html": [
       "<div>\n",
       "<style scoped>\n",
       "    .dataframe tbody tr th:only-of-type {\n",
       "        vertical-align: middle;\n",
       "    }\n",
       "\n",
       "    .dataframe tbody tr th {\n",
       "        vertical-align: top;\n",
       "    }\n",
       "\n",
       "    .dataframe thead th {\n",
       "        text-align: right;\n",
       "    }\n",
       "</style>\n",
       "<table border=\"1\" class=\"dataframe\">\n",
       "  <thead>\n",
       "    <tr style=\"text-align: right;\">\n",
       "      <th></th>\n",
       "      <th>Total</th>\n",
       "      <th>Quantity</th>\n",
       "    </tr>\n",
       "  </thead>\n",
       "  <tbody>\n",
       "    <tr>\n",
       "      <th>count</th>\n",
       "      <td>2.000000e+01</td>\n",
       "      <td>20.000000</td>\n",
       "    </tr>\n",
       "    <tr>\n",
       "      <th>mean</th>\n",
       "      <td>1.502500e+06</td>\n",
       "      <td>977.900000</td>\n",
       "    </tr>\n",
       "    <tr>\n",
       "      <th>std</th>\n",
       "      <td>5.769280e+06</td>\n",
       "      <td>1761.923497</td>\n",
       "    </tr>\n",
       "    <tr>\n",
       "      <th>min</th>\n",
       "      <td>1.000000e+05</td>\n",
       "      <td>85.000000</td>\n",
       "    </tr>\n",
       "    <tr>\n",
       "      <th>25%</th>\n",
       "      <td>1.400000e+05</td>\n",
       "      <td>90.000000</td>\n",
       "    </tr>\n",
       "    <tr>\n",
       "      <th>50%</th>\n",
       "      <td>1.700000e+05</td>\n",
       "      <td>505.500000</td>\n",
       "    </tr>\n",
       "    <tr>\n",
       "      <th>75%</th>\n",
       "      <td>2.250000e+05</td>\n",
       "      <td>1000.000000</td>\n",
       "    </tr>\n",
       "    <tr>\n",
       "      <th>max</th>\n",
       "      <td>2.600000e+07</td>\n",
       "      <td>7890.000000</td>\n",
       "    </tr>\n",
       "  </tbody>\n",
       "</table>\n",
       "</div>"
      ],
      "text/plain": [
       "              Total     Quantity\n",
       "count  2.000000e+01    20.000000\n",
       "mean   1.502500e+06   977.900000\n",
       "std    5.769280e+06  1761.923497\n",
       "min    1.000000e+05    85.000000\n",
       "25%    1.400000e+05    90.000000\n",
       "50%    1.700000e+05   505.500000\n",
       "75%    2.250000e+05  1000.000000\n",
       "max    2.600000e+07  7890.000000"
      ]
     },
     "execution_count": 54,
     "metadata": {},
     "output_type": "execute_result"
    }
   ],
   "source": [
    "data.describe()"
   ]
  },
  {
   "cell_type": "markdown",
   "metadata": {},
   "source": [
    "Посмотрим на список уникальных стран, которые есть в таблице:"
   ]
  },
  {
   "cell_type": "code",
   "execution_count": 55,
   "metadata": {},
   "outputs": [
    {
     "data": {
      "text/plain": [
       "array(['India', 'US', 'UK', 'Australia', 'Africa', 'Singapore', 'Mylasia'],\n",
       "      dtype=object)"
      ]
     },
     "execution_count": 55,
     "metadata": {},
     "output_type": "execute_result"
    }
   ],
   "source": [
    "data[\"Country\"].unique()"
   ]
  },
  {
   "cell_type": "markdown",
   "metadata": {},
   "source": [
    "Мы можем тут же создать новую переменную, которая объединяет страну и регион."
   ]
  },
  {
   "cell_type": "code",
   "execution_count": 56,
   "metadata": {},
   "outputs": [],
   "source": [
    "data['Subregion'] = [x+'_'+y for x,y in zip(data['Region'], data['Country'])]"
   ]
  },
  {
   "cell_type": "markdown",
   "metadata": {},
   "source": [
    "В табличке появилась новая колонка."
   ]
  },
  {
   "cell_type": "code",
   "execution_count": 57,
   "metadata": {
    "scrolled": true
   },
   "outputs": [
    {
     "data": {
      "text/html": [
       "<div>\n",
       "<style scoped>\n",
       "    .dataframe tbody tr th:only-of-type {\n",
       "        vertical-align: middle;\n",
       "    }\n",
       "\n",
       "    .dataframe tbody tr th {\n",
       "        vertical-align: top;\n",
       "    }\n",
       "\n",
       "    .dataframe thead th {\n",
       "        text-align: right;\n",
       "    }\n",
       "</style>\n",
       "<table border=\"1\" class=\"dataframe\">\n",
       "  <thead>\n",
       "    <tr style=\"text-align: right;\">\n",
       "      <th></th>\n",
       "      <th>Country</th>\n",
       "      <th>Region</th>\n",
       "      <th>Sales Person</th>\n",
       "      <th>Date of Purchase</th>\n",
       "      <th>Total</th>\n",
       "      <th>Quantity</th>\n",
       "      <th>Subregion</th>\n",
       "    </tr>\n",
       "  </thead>\n",
       "  <tbody>\n",
       "    <tr>\n",
       "      <th>0</th>\n",
       "      <td>India</td>\n",
       "      <td>North</td>\n",
       "      <td>John</td>\n",
       "      <td>2/1/2012 0:00:00</td>\n",
       "      <td>100000</td>\n",
       "      <td>567</td>\n",
       "      <td>North_India</td>\n",
       "    </tr>\n",
       "    <tr>\n",
       "      <th>1</th>\n",
       "      <td>US</td>\n",
       "      <td>North</td>\n",
       "      <td>Bill</td>\n",
       "      <td>4/16/2012 0:00:00</td>\n",
       "      <td>120000</td>\n",
       "      <td>3000</td>\n",
       "      <td>North_US</td>\n",
       "    </tr>\n",
       "    <tr>\n",
       "      <th>2</th>\n",
       "      <td>UK</td>\n",
       "      <td>North</td>\n",
       "      <td>Thomas</td>\n",
       "      <td>7/31/2014 0:00:00</td>\n",
       "      <td>140000</td>\n",
       "      <td>345</td>\n",
       "      <td>North_UK</td>\n",
       "    </tr>\n",
       "    <tr>\n",
       "      <th>3</th>\n",
       "      <td>Australia</td>\n",
       "      <td>East</td>\n",
       "      <td>John</td>\n",
       "      <td>11/24/2012 0:00:00</td>\n",
       "      <td>160000</td>\n",
       "      <td>1000</td>\n",
       "      <td>East_Australia</td>\n",
       "    </tr>\n",
       "    <tr>\n",
       "      <th>4</th>\n",
       "      <td>Africa</td>\n",
       "      <td>East</td>\n",
       "      <td>Bill</td>\n",
       "      <td>6/11/2012 0:00:00</td>\n",
       "      <td>180000</td>\n",
       "      <td>123</td>\n",
       "      <td>East_Africa</td>\n",
       "    </tr>\n",
       "    <tr>\n",
       "      <th>5</th>\n",
       "      <td>Singapore</td>\n",
       "      <td>East</td>\n",
       "      <td>Thomas</td>\n",
       "      <td>4/24/2017 0:00:00</td>\n",
       "      <td>200000</td>\n",
       "      <td>1000</td>\n",
       "      <td>East_Singapore</td>\n",
       "    </tr>\n",
       "    <tr>\n",
       "      <th>6</th>\n",
       "      <td>Mylasia</td>\n",
       "      <td>West</td>\n",
       "      <td>John</td>\n",
       "      <td>10/18/2013 0:00:00</td>\n",
       "      <td>1000000</td>\n",
       "      <td>7890</td>\n",
       "      <td>West_Mylasia</td>\n",
       "    </tr>\n",
       "    <tr>\n",
       "      <th>7</th>\n",
       "      <td>India</td>\n",
       "      <td>West</td>\n",
       "      <td>Bill</td>\n",
       "      <td>8/18/2018 0:00:00</td>\n",
       "      <td>240000</td>\n",
       "      <td>200</td>\n",
       "      <td>West_India</td>\n",
       "    </tr>\n",
       "    <tr>\n",
       "      <th>8</th>\n",
       "      <td>US</td>\n",
       "      <td>West</td>\n",
       "      <td>Thomas</td>\n",
       "      <td>12/25/2013 0:00:00</td>\n",
       "      <td>26000000</td>\n",
       "      <td>1000</td>\n",
       "      <td>West_US</td>\n",
       "    </tr>\n",
       "    <tr>\n",
       "      <th>9</th>\n",
       "      <td>UK</td>\n",
       "      <td>North</td>\n",
       "      <td>John</td>\n",
       "      <td>4/9/2016 0:00:00</td>\n",
       "      <td>100000</td>\n",
       "      <td>1000</td>\n",
       "      <td>North_UK</td>\n",
       "    </tr>\n",
       "  </tbody>\n",
       "</table>\n",
       "</div>"
      ],
      "text/plain": [
       "     Country Region Sales Person    Date of Purchase     Total  Quantity  \\\n",
       "0      India  North         John    2/1/2012 0:00:00    100000       567   \n",
       "1         US  North         Bill   4/16/2012 0:00:00    120000      3000   \n",
       "2         UK  North       Thomas   7/31/2014 0:00:00    140000       345   \n",
       "3  Australia   East         John  11/24/2012 0:00:00    160000      1000   \n",
       "4     Africa   East         Bill   6/11/2012 0:00:00    180000       123   \n",
       "5  Singapore   East       Thomas   4/24/2017 0:00:00    200000      1000   \n",
       "6    Mylasia   West         John  10/18/2013 0:00:00   1000000      7890   \n",
       "7      India   West         Bill   8/18/2018 0:00:00    240000       200   \n",
       "8         US   West       Thomas  12/25/2013 0:00:00  26000000      1000   \n",
       "9         UK  North         John    4/9/2016 0:00:00    100000      1000   \n",
       "\n",
       "        Subregion  \n",
       "0     North_India  \n",
       "1        North_US  \n",
       "2        North_UK  \n",
       "3  East_Australia  \n",
       "4     East_Africa  \n",
       "5  East_Singapore  \n",
       "6    West_Mylasia  \n",
       "7      West_India  \n",
       "8         West_US  \n",
       "9        North_UK  "
      ]
     },
     "execution_count": 57,
     "metadata": {},
     "output_type": "execute_result"
    }
   ],
   "source": [
    "data.head(10)"
   ]
  },
  {
   "cell_type": "code",
   "execution_count": 58,
   "metadata": {},
   "outputs": [],
   "source": [
    "#Поделим столбцы для создания новой переменной\n",
    "#data [\"price\"]=data[\"Total\"]/data[\"Quantity\"]\n",
    "#data.head()"
   ]
  },
  {
   "cell_type": "code",
   "execution_count": 59,
   "metadata": {},
   "outputs": [
    {
     "data": {
      "text/html": [
       "<div>\n",
       "<style scoped>\n",
       "    .dataframe tbody tr th:only-of-type {\n",
       "        vertical-align: middle;\n",
       "    }\n",
       "\n",
       "    .dataframe tbody tr th {\n",
       "        vertical-align: top;\n",
       "    }\n",
       "\n",
       "    .dataframe thead th {\n",
       "        text-align: right;\n",
       "    }\n",
       "</style>\n",
       "<table border=\"1\" class=\"dataframe\">\n",
       "  <thead>\n",
       "    <tr style=\"text-align: right;\">\n",
       "      <th></th>\n",
       "      <th>Country</th>\n",
       "      <th>Region</th>\n",
       "      <th>Sales Person</th>\n",
       "      <th>Date of Purchase</th>\n",
       "      <th>Total</th>\n",
       "      <th>Quantity</th>\n",
       "      <th>Subregion</th>\n",
       "    </tr>\n",
       "  </thead>\n",
       "  <tbody>\n",
       "    <tr>\n",
       "      <th>4</th>\n",
       "      <td>Africa</td>\n",
       "      <td>East</td>\n",
       "      <td>Bill</td>\n",
       "      <td>6/11/2012 0:00:00</td>\n",
       "      <td>180000</td>\n",
       "      <td>123</td>\n",
       "      <td>East_Africa</td>\n",
       "    </tr>\n",
       "    <tr>\n",
       "      <th>18</th>\n",
       "      <td>Africa</td>\n",
       "      <td>North</td>\n",
       "      <td>John</td>\n",
       "      <td>12/14/2015 0:00:00</td>\n",
       "      <td>140000</td>\n",
       "      <td>85</td>\n",
       "      <td>North_Africa</td>\n",
       "    </tr>\n",
       "    <tr>\n",
       "      <th>11</th>\n",
       "      <td>Africa</td>\n",
       "      <td>North</td>\n",
       "      <td>Thomas</td>\n",
       "      <td>6/10/2012 0:00:00</td>\n",
       "      <td>140000</td>\n",
       "      <td>1000</td>\n",
       "      <td>North_Africa</td>\n",
       "    </tr>\n",
       "    <tr>\n",
       "      <th>17</th>\n",
       "      <td>Australia</td>\n",
       "      <td>West</td>\n",
       "      <td>Thomas</td>\n",
       "      <td>10/29/2016 0:00:00</td>\n",
       "      <td>260000</td>\n",
       "      <td>90</td>\n",
       "      <td>West_Australia</td>\n",
       "    </tr>\n",
       "    <tr>\n",
       "      <th>3</th>\n",
       "      <td>Australia</td>\n",
       "      <td>East</td>\n",
       "      <td>John</td>\n",
       "      <td>11/24/2012 0:00:00</td>\n",
       "      <td>160000</td>\n",
       "      <td>1000</td>\n",
       "      <td>East_Australia</td>\n",
       "    </tr>\n",
       "    <tr>\n",
       "      <th>10</th>\n",
       "      <td>Australia</td>\n",
       "      <td>North</td>\n",
       "      <td>Bill</td>\n",
       "      <td>7/29/2010 0:00:00</td>\n",
       "      <td>120000</td>\n",
       "      <td>567</td>\n",
       "      <td>North_Australia</td>\n",
       "    </tr>\n",
       "    <tr>\n",
       "      <th>0</th>\n",
       "      <td>India</td>\n",
       "      <td>North</td>\n",
       "      <td>John</td>\n",
       "      <td>2/1/2012 0:00:00</td>\n",
       "      <td>100000</td>\n",
       "      <td>567</td>\n",
       "      <td>North_India</td>\n",
       "    </tr>\n",
       "    <tr>\n",
       "      <th>14</th>\n",
       "      <td>India</td>\n",
       "      <td>East</td>\n",
       "      <td>Thomas</td>\n",
       "      <td>8/17/2014 0:00:00</td>\n",
       "      <td>200000</td>\n",
       "      <td>90</td>\n",
       "      <td>East_India</td>\n",
       "    </tr>\n",
       "    <tr>\n",
       "      <th>7</th>\n",
       "      <td>India</td>\n",
       "      <td>West</td>\n",
       "      <td>Bill</td>\n",
       "      <td>8/18/2018 0:00:00</td>\n",
       "      <td>240000</td>\n",
       "      <td>200</td>\n",
       "      <td>West_India</td>\n",
       "    </tr>\n",
       "    <tr>\n",
       "      <th>13</th>\n",
       "      <td>Mylasia</td>\n",
       "      <td>East</td>\n",
       "      <td>Bill</td>\n",
       "      <td>6/10/2013 0:00:00</td>\n",
       "      <td>180000</td>\n",
       "      <td>444</td>\n",
       "      <td>East_Mylasia</td>\n",
       "    </tr>\n",
       "    <tr>\n",
       "      <th>6</th>\n",
       "      <td>Mylasia</td>\n",
       "      <td>West</td>\n",
       "      <td>John</td>\n",
       "      <td>10/18/2013 0:00:00</td>\n",
       "      <td>1000000</td>\n",
       "      <td>7890</td>\n",
       "      <td>West_Mylasia</td>\n",
       "    </tr>\n",
       "    <tr>\n",
       "      <th>12</th>\n",
       "      <td>Singapore</td>\n",
       "      <td>East</td>\n",
       "      <td>John</td>\n",
       "      <td>4/24/2018 0:00:00</td>\n",
       "      <td>160000</td>\n",
       "      <td>892</td>\n",
       "      <td>East_Singapore</td>\n",
       "    </tr>\n",
       "    <tr>\n",
       "      <th>19</th>\n",
       "      <td>Singapore</td>\n",
       "      <td>North</td>\n",
       "      <td>Bill</td>\n",
       "      <td>1/25/2012 0:00:00</td>\n",
       "      <td>150000</td>\n",
       "      <td>85</td>\n",
       "      <td>North_Singapore</td>\n",
       "    </tr>\n",
       "    <tr>\n",
       "      <th>5</th>\n",
       "      <td>Singapore</td>\n",
       "      <td>East</td>\n",
       "      <td>Thomas</td>\n",
       "      <td>4/24/2017 0:00:00</td>\n",
       "      <td>200000</td>\n",
       "      <td>1000</td>\n",
       "      <td>East_Singapore</td>\n",
       "    </tr>\n",
       "    <tr>\n",
       "      <th>2</th>\n",
       "      <td>UK</td>\n",
       "      <td>North</td>\n",
       "      <td>Thomas</td>\n",
       "      <td>7/31/2014 0:00:00</td>\n",
       "      <td>140000</td>\n",
       "      <td>345</td>\n",
       "      <td>North_UK</td>\n",
       "    </tr>\n",
       "    <tr>\n",
       "      <th>16</th>\n",
       "      <td>UK</td>\n",
       "      <td>West</td>\n",
       "      <td>Bill</td>\n",
       "      <td>4/28/2011 0:00:00</td>\n",
       "      <td>240000</td>\n",
       "      <td>90</td>\n",
       "      <td>West_UK</td>\n",
       "    </tr>\n",
       "    <tr>\n",
       "      <th>9</th>\n",
       "      <td>UK</td>\n",
       "      <td>North</td>\n",
       "      <td>John</td>\n",
       "      <td>4/9/2016 0:00:00</td>\n",
       "      <td>100000</td>\n",
       "      <td>1000</td>\n",
       "      <td>North_UK</td>\n",
       "    </tr>\n",
       "    <tr>\n",
       "      <th>15</th>\n",
       "      <td>US</td>\n",
       "      <td>West</td>\n",
       "      <td>John</td>\n",
       "      <td>8/1/2013 0:00:00</td>\n",
       "      <td>220000</td>\n",
       "      <td>90</td>\n",
       "      <td>West_US</td>\n",
       "    </tr>\n",
       "    <tr>\n",
       "      <th>1</th>\n",
       "      <td>US</td>\n",
       "      <td>North</td>\n",
       "      <td>Bill</td>\n",
       "      <td>4/16/2012 0:00:00</td>\n",
       "      <td>120000</td>\n",
       "      <td>3000</td>\n",
       "      <td>North_US</td>\n",
       "    </tr>\n",
       "    <tr>\n",
       "      <th>8</th>\n",
       "      <td>US</td>\n",
       "      <td>West</td>\n",
       "      <td>Thomas</td>\n",
       "      <td>12/25/2013 0:00:00</td>\n",
       "      <td>26000000</td>\n",
       "      <td>1000</td>\n",
       "      <td>West_US</td>\n",
       "    </tr>\n",
       "  </tbody>\n",
       "</table>\n",
       "</div>"
      ],
      "text/plain": [
       "      Country Region Sales Person    Date of Purchase     Total  Quantity  \\\n",
       "4      Africa   East         Bill   6/11/2012 0:00:00    180000       123   \n",
       "18     Africa  North         John  12/14/2015 0:00:00    140000        85   \n",
       "11     Africa  North       Thomas   6/10/2012 0:00:00    140000      1000   \n",
       "17  Australia   West       Thomas  10/29/2016 0:00:00    260000        90   \n",
       "3   Australia   East         John  11/24/2012 0:00:00    160000      1000   \n",
       "10  Australia  North         Bill   7/29/2010 0:00:00    120000       567   \n",
       "0       India  North         John    2/1/2012 0:00:00    100000       567   \n",
       "14      India   East       Thomas   8/17/2014 0:00:00    200000        90   \n",
       "7       India   West         Bill   8/18/2018 0:00:00    240000       200   \n",
       "13    Mylasia   East         Bill   6/10/2013 0:00:00    180000       444   \n",
       "6     Mylasia   West         John  10/18/2013 0:00:00   1000000      7890   \n",
       "12  Singapore   East         John   4/24/2018 0:00:00    160000       892   \n",
       "19  Singapore  North         Bill   1/25/2012 0:00:00    150000        85   \n",
       "5   Singapore   East       Thomas   4/24/2017 0:00:00    200000      1000   \n",
       "2          UK  North       Thomas   7/31/2014 0:00:00    140000       345   \n",
       "16         UK   West         Bill   4/28/2011 0:00:00    240000        90   \n",
       "9          UK  North         John    4/9/2016 0:00:00    100000      1000   \n",
       "15         US   West         John    8/1/2013 0:00:00    220000        90   \n",
       "1          US  North         Bill   4/16/2012 0:00:00    120000      3000   \n",
       "8          US   West       Thomas  12/25/2013 0:00:00  26000000      1000   \n",
       "\n",
       "          Subregion  \n",
       "4       East_Africa  \n",
       "18     North_Africa  \n",
       "11     North_Africa  \n",
       "17   West_Australia  \n",
       "3    East_Australia  \n",
       "10  North_Australia  \n",
       "0       North_India  \n",
       "14       East_India  \n",
       "7        West_India  \n",
       "13     East_Mylasia  \n",
       "6      West_Mylasia  \n",
       "12   East_Singapore  \n",
       "19  North_Singapore  \n",
       "5    East_Singapore  \n",
       "2          North_UK  \n",
       "16          West_UK  \n",
       "9          North_UK  \n",
       "15          West_US  \n",
       "1          North_US  \n",
       "8           West_US  "
      ]
     },
     "execution_count": 59,
     "metadata": {},
     "output_type": "execute_result"
    }
   ],
   "source": [
    "#Отсортируем наблюдения по столбцу:\n",
    "\n",
    "data.sort_values(by=\"Country\",ascending=True)"
   ]
  },
  {
   "cell_type": "markdown",
   "metadata": {},
   "source": [
    "`Date of Purchase` имеет формат `str`, хотя очевидно, что это дата, давайте приведем его к формату даты: `datetime.datetime`."
   ]
  },
  {
   "cell_type": "code",
   "execution_count": 60,
   "metadata": {},
   "outputs": [],
   "source": [
    "# для этого нам понадобиться ещё один пакет, который позволяет работать с датами\n",
    "from datetime import datetime"
   ]
  },
  {
   "cell_type": "code",
   "execution_count": 61,
   "metadata": {},
   "outputs": [
    {
     "data": {
      "text/plain": [
       "[datetime.datetime(2012, 2, 1, 0, 0),\n",
       " datetime.datetime(2012, 4, 16, 0, 0),\n",
       " datetime.datetime(2014, 7, 31, 0, 0),\n",
       " datetime.datetime(2012, 11, 24, 0, 0),\n",
       " datetime.datetime(2012, 6, 11, 0, 0),\n",
       " datetime.datetime(2017, 4, 24, 0, 0),\n",
       " datetime.datetime(2013, 10, 18, 0, 0),\n",
       " datetime.datetime(2018, 8, 18, 0, 0),\n",
       " datetime.datetime(2013, 12, 25, 0, 0),\n",
       " datetime.datetime(2016, 4, 9, 0, 0),\n",
       " datetime.datetime(2010, 7, 29, 0, 0),\n",
       " datetime.datetime(2012, 6, 10, 0, 0),\n",
       " datetime.datetime(2018, 4, 24, 0, 0),\n",
       " datetime.datetime(2013, 6, 10, 0, 0),\n",
       " datetime.datetime(2014, 8, 17, 0, 0),\n",
       " datetime.datetime(2013, 8, 1, 0, 0),\n",
       " datetime.datetime(2011, 4, 28, 0, 0),\n",
       " datetime.datetime(2016, 10, 29, 0, 0),\n",
       " datetime.datetime(2015, 12, 14, 0, 0),\n",
       " datetime.datetime(2012, 1, 25, 0, 0)]"
      ]
     },
     "execution_count": 61,
     "metadata": {},
     "output_type": "execute_result"
    }
   ],
   "source": [
    "index_1 = [datetime.strptime(x, '%m/%d/%Y %H:%M:%S') for x in data['Date of Purchase']]\n",
    "\n",
    "# каждая строка это определенный день в формате (год, месяц, день, час, минута)\n",
    "index_1 "
   ]
  },
  {
   "cell_type": "code",
   "execution_count": 62,
   "metadata": {},
   "outputs": [
    {
     "data": {
      "text/plain": [
       "0    2012-02-01\n",
       "1    2012-04-16\n",
       "2    2014-07-31\n",
       "3    2012-11-24\n",
       "4    2012-06-11\n",
       "5    2017-04-24\n",
       "6    2013-10-18\n",
       "7    2018-08-18\n",
       "8    2013-12-25\n",
       "9    2016-04-09\n",
       "10   2010-07-29\n",
       "11   2012-06-10\n",
       "12   2018-04-24\n",
       "13   2013-06-10\n",
       "14   2014-08-17\n",
       "15   2013-08-01\n",
       "16   2011-04-28\n",
       "17   2016-10-29\n",
       "18   2015-12-14\n",
       "19   2012-01-25\n",
       "Name: Date of Purchase, dtype: datetime64[ns]"
      ]
     },
     "execution_count": 62,
     "metadata": {},
     "output_type": "execute_result"
    }
   ],
   "source": [
    "\n",
    "index2=data[\"Date of Purchase\"].apply(lambda x:datetime.strptime(x, \"%m/%d/%Y %H:%M:%S\"))\n",
    "# переведём дату в более удобоваримый вид \n",
    "index2\n",
    "\n"
   ]
  },
  {
   "cell_type": "code",
   "execution_count": 73,
   "metadata": {},
   "outputs": [],
   "source": [
    " # создадим у таблицы индекс, с ним удобно работать \n",
    "data.index=index2"
   ]
  },
  {
   "cell_type": "markdown",
   "metadata": {},
   "source": [
    "### Примеры обращения по индексу"
   ]
  },
  {
   "cell_type": "code",
   "execution_count": 74,
   "metadata": {},
   "outputs": [
    {
     "data": {
      "text/html": [
       "<div>\n",
       "<style scoped>\n",
       "    .dataframe tbody tr th:only-of-type {\n",
       "        vertical-align: middle;\n",
       "    }\n",
       "\n",
       "    .dataframe tbody tr th {\n",
       "        vertical-align: top;\n",
       "    }\n",
       "\n",
       "    .dataframe thead th {\n",
       "        text-align: right;\n",
       "    }\n",
       "</style>\n",
       "<table border=\"1\" class=\"dataframe\">\n",
       "  <thead>\n",
       "    <tr style=\"text-align: right;\">\n",
       "      <th></th>\n",
       "      <th>Country</th>\n",
       "      <th>Region</th>\n",
       "      <th>Sales Person</th>\n",
       "      <th>Date of Purchase</th>\n",
       "      <th>Total</th>\n",
       "      <th>Quantity</th>\n",
       "      <th>Subregion</th>\n",
       "    </tr>\n",
       "    <tr>\n",
       "      <th>Date of Purchase</th>\n",
       "      <th></th>\n",
       "      <th></th>\n",
       "      <th></th>\n",
       "      <th></th>\n",
       "      <th></th>\n",
       "      <th></th>\n",
       "      <th></th>\n",
       "    </tr>\n",
       "  </thead>\n",
       "  <tbody>\n",
       "    <tr>\n",
       "      <th>2012-02-01</th>\n",
       "      <td>India</td>\n",
       "      <td>North</td>\n",
       "      <td>John</td>\n",
       "      <td>2/1/2012 0:00:00</td>\n",
       "      <td>100000</td>\n",
       "      <td>567</td>\n",
       "      <td>North_India</td>\n",
       "    </tr>\n",
       "    <tr>\n",
       "      <th>2012-04-16</th>\n",
       "      <td>US</td>\n",
       "      <td>North</td>\n",
       "      <td>Bill</td>\n",
       "      <td>4/16/2012 0:00:00</td>\n",
       "      <td>120000</td>\n",
       "      <td>3000</td>\n",
       "      <td>North_US</td>\n",
       "    </tr>\n",
       "    <tr>\n",
       "      <th>2012-11-24</th>\n",
       "      <td>Australia</td>\n",
       "      <td>East</td>\n",
       "      <td>John</td>\n",
       "      <td>11/24/2012 0:00:00</td>\n",
       "      <td>160000</td>\n",
       "      <td>1000</td>\n",
       "      <td>East_Australia</td>\n",
       "    </tr>\n",
       "    <tr>\n",
       "      <th>2012-06-11</th>\n",
       "      <td>Africa</td>\n",
       "      <td>East</td>\n",
       "      <td>Bill</td>\n",
       "      <td>6/11/2012 0:00:00</td>\n",
       "      <td>180000</td>\n",
       "      <td>123</td>\n",
       "      <td>East_Africa</td>\n",
       "    </tr>\n",
       "    <tr>\n",
       "      <th>2010-07-29</th>\n",
       "      <td>Australia</td>\n",
       "      <td>North</td>\n",
       "      <td>Bill</td>\n",
       "      <td>7/29/2010 0:00:00</td>\n",
       "      <td>120000</td>\n",
       "      <td>567</td>\n",
       "      <td>North_Australia</td>\n",
       "    </tr>\n",
       "    <tr>\n",
       "      <th>2012-06-10</th>\n",
       "      <td>Africa</td>\n",
       "      <td>North</td>\n",
       "      <td>Thomas</td>\n",
       "      <td>6/10/2012 0:00:00</td>\n",
       "      <td>140000</td>\n",
       "      <td>1000</td>\n",
       "      <td>North_Africa</td>\n",
       "    </tr>\n",
       "    <tr>\n",
       "      <th>2011-04-28</th>\n",
       "      <td>UK</td>\n",
       "      <td>West</td>\n",
       "      <td>Bill</td>\n",
       "      <td>4/28/2011 0:00:00</td>\n",
       "      <td>240000</td>\n",
       "      <td>90</td>\n",
       "      <td>West_UK</td>\n",
       "    </tr>\n",
       "    <tr>\n",
       "      <th>2012-01-25</th>\n",
       "      <td>Singapore</td>\n",
       "      <td>North</td>\n",
       "      <td>Bill</td>\n",
       "      <td>1/25/2012 0:00:00</td>\n",
       "      <td>150000</td>\n",
       "      <td>85</td>\n",
       "      <td>North_Singapore</td>\n",
       "    </tr>\n",
       "  </tbody>\n",
       "</table>\n",
       "</div>"
      ],
      "text/plain": [
       "                    Country Region Sales Person    Date of Purchase   Total  \\\n",
       "Date of Purchase                                                              \n",
       "2012-02-01            India  North         John    2/1/2012 0:00:00  100000   \n",
       "2012-04-16               US  North         Bill   4/16/2012 0:00:00  120000   \n",
       "2012-11-24        Australia   East         John  11/24/2012 0:00:00  160000   \n",
       "2012-06-11           Africa   East         Bill   6/11/2012 0:00:00  180000   \n",
       "2010-07-29        Australia  North         Bill   7/29/2010 0:00:00  120000   \n",
       "2012-06-10           Africa  North       Thomas   6/10/2012 0:00:00  140000   \n",
       "2011-04-28               UK   West         Bill   4/28/2011 0:00:00  240000   \n",
       "2012-01-25        Singapore  North         Bill   1/25/2012 0:00:00  150000   \n",
       "\n",
       "                  Quantity        Subregion  \n",
       "Date of Purchase                             \n",
       "2012-02-01             567      North_India  \n",
       "2012-04-16            3000         North_US  \n",
       "2012-11-24            1000   East_Australia  \n",
       "2012-06-11             123      East_Africa  \n",
       "2010-07-29             567  North_Australia  \n",
       "2012-06-10            1000     North_Africa  \n",
       "2011-04-28              90          West_UK  \n",
       "2012-01-25              85  North_Singapore  "
      ]
     },
     "execution_count": 74,
     "metadata": {},
     "output_type": "execute_result"
    }
   ],
   "source": [
    " # срез всех наблюдений, произошедших до 2013 года\n",
    "data[data.index<\"2013\"]"
   ]
  },
  {
   "cell_type": "code",
   "execution_count": 77,
   "metadata": {},
   "outputs": [
    {
     "data": {
      "text/html": [
       "<div>\n",
       "<style scoped>\n",
       "    .dataframe tbody tr th:only-of-type {\n",
       "        vertical-align: middle;\n",
       "    }\n",
       "\n",
       "    .dataframe tbody tr th {\n",
       "        vertical-align: top;\n",
       "    }\n",
       "\n",
       "    .dataframe thead th {\n",
       "        text-align: right;\n",
       "    }\n",
       "</style>\n",
       "<table border=\"1\" class=\"dataframe\">\n",
       "  <thead>\n",
       "    <tr style=\"text-align: right;\">\n",
       "      <th></th>\n",
       "      <th>Country</th>\n",
       "      <th>Region</th>\n",
       "      <th>Sales Person</th>\n",
       "      <th>Date of Purchase</th>\n",
       "      <th>Total</th>\n",
       "      <th>Quantity</th>\n",
       "      <th>Subregion</th>\n",
       "    </tr>\n",
       "    <tr>\n",
       "      <th>Date of Purchase</th>\n",
       "      <th></th>\n",
       "      <th></th>\n",
       "      <th></th>\n",
       "      <th></th>\n",
       "      <th></th>\n",
       "      <th></th>\n",
       "      <th></th>\n",
       "    </tr>\n",
       "  </thead>\n",
       "  <tbody>\n",
       "    <tr>\n",
       "      <th>2014-07-31</th>\n",
       "      <td>UK</td>\n",
       "      <td>North</td>\n",
       "      <td>Thomas</td>\n",
       "      <td>7/31/2014 0:00:00</td>\n",
       "      <td>140000</td>\n",
       "      <td>345</td>\n",
       "      <td>North_UK</td>\n",
       "    </tr>\n",
       "    <tr>\n",
       "      <th>2016-04-09</th>\n",
       "      <td>UK</td>\n",
       "      <td>North</td>\n",
       "      <td>John</td>\n",
       "      <td>4/9/2016 0:00:00</td>\n",
       "      <td>100000</td>\n",
       "      <td>1000</td>\n",
       "      <td>North_UK</td>\n",
       "    </tr>\n",
       "    <tr>\n",
       "      <th>2011-04-28</th>\n",
       "      <td>UK</td>\n",
       "      <td>West</td>\n",
       "      <td>Bill</td>\n",
       "      <td>4/28/2011 0:00:00</td>\n",
       "      <td>240000</td>\n",
       "      <td>90</td>\n",
       "      <td>West_UK</td>\n",
       "    </tr>\n",
       "  </tbody>\n",
       "</table>\n",
       "</div>"
      ],
      "text/plain": [
       "                 Country Region Sales Person   Date of Purchase   Total  \\\n",
       "Date of Purchase                                                          \n",
       "2014-07-31            UK  North       Thomas  7/31/2014 0:00:00  140000   \n",
       "2016-04-09            UK  North         John   4/9/2016 0:00:00  100000   \n",
       "2011-04-28            UK   West         Bill  4/28/2011 0:00:00  240000   \n",
       "\n",
       "                  Quantity Subregion  \n",
       "Date of Purchase                      \n",
       "2014-07-31             345  North_UK  \n",
       "2016-04-09            1000  North_UK  \n",
       "2011-04-28              90   West_UK  "
      ]
     },
     "execution_count": 77,
     "metadata": {},
     "output_type": "execute_result"
    }
   ],
   "source": [
    "#можно посмотреть, как устроен индекс:\n",
    "#Отдельном посмотрим на года, месяца и дни:\n",
    "\n",
    "data[(data[\"Total\"]<12000000)& (data[\"Country\"]==\"UK\")]"
   ]
  },
  {
   "cell_type": "code",
   "execution_count": null,
   "metadata": {},
   "outputs": [],
   "source": [
    "# наблюдения между 2013 и 2014\n",
    "data.groupby([\"Country\")"
   ]
  },
  {
   "cell_type": "code",
   "execution_count": null,
   "metadata": {},
   "outputs": [],
   "source": [
    "# наблюдения до конкретного дня\n"
   ]
  },
  {
   "cell_type": "markdown",
   "metadata": {},
   "source": [
    "Помимо обращения по индексу можно \"фильтровать\" по условию (маске)"
   ]
  },
  {
   "cell_type": "code",
   "execution_count": null,
   "metadata": {},
   "outputs": [],
   "source": []
  },
  {
   "cell_type": "code",
   "execution_count": null,
   "metadata": {},
   "outputs": [],
   "source": []
  },
  {
   "cell_type": "markdown",
   "metadata": {},
   "source": [
    "Если ничего не соответствует условиям, то вернется пустой dataframe"
   ]
  },
  {
   "cell_type": "code",
   "execution_count": null,
   "metadata": {},
   "outputs": [],
   "source": [
    "data[(data['Total'] < 120000) & (data['Country']=='Slovenia')]"
   ]
  },
  {
   "cell_type": "markdown",
   "metadata": {},
   "source": [
    "Посмотрим на продажи по странам (Country)"
   ]
  },
  {
   "cell_type": "code",
   "execution_count": null,
   "metadata": {},
   "outputs": [],
   "source": [
    "\n"
   ]
  },
  {
   "cell_type": "markdown",
   "metadata": {},
   "source": [
    "Со сгруппированными данными можно работать и в циклах"
   ]
  },
  {
   "cell_type": "code",
   "execution_count": null,
   "metadata": {},
   "outputs": [],
   "source": [
    "for x in data.groupby('Country'):\n",
    "    print(x[0])\n",
    "    print(x[1])\n",
    "    break"
   ]
  },
  {
   "cell_type": "markdown",
   "metadata": {},
   "source": [
    "Можно группировать по нескольким полям"
   ]
  },
  {
   "cell_type": "code",
   "execution_count": null,
   "metadata": {},
   "outputs": [],
   "source": [
    "data.groupby(['Country', 'Region']).agg('sum')"
   ]
  },
  {
   "cell_type": "code",
   "execution_count": null,
   "metadata": {},
   "outputs": [],
   "source": [
    "data.groupby(['Country', 'Region']).mean()"
   ]
  },
  {
   "cell_type": "markdown",
   "metadata": {},
   "source": [
    "Можно применять свои функции "
   ]
  },
  {
   "cell_type": "code",
   "execution_count": null,
   "metadata": {},
   "outputs": [],
   "source": [
    "import numpy as np\n",
    "def custom(x):\n",
    "    return (sum(x)-np.mean(x))**2 / len(x)\n",
    "    \n",
    "data.groupby(['Country']).agg(custom)"
   ]
  },
  {
   "cell_type": "markdown",
   "metadata": {},
   "source": [
    "Немного визуализации данных по табличке. Про визуализацию подробнее мы будем говорить через две пары."
   ]
  },
  {
   "cell_type": "markdown",
   "metadata": {},
   "source": [
    "Просто нарисуем график продаж во времени:"
   ]
  },
  {
   "cell_type": "code",
   "execution_count": 79,
   "metadata": {},
   "outputs": [
    {
     "data": {
      "text/plain": [
       "<matplotlib.axes._subplots.AxesSubplot at 0x943d8d0>"
      ]
     },
     "execution_count": 79,
     "metadata": {},
     "output_type": "execute_result"
    },
    {
     "data": {
      "image/png": "[encoded data removed]",
      "text/plain": [
       "<Figure size 720x72 with 1 Axes>"
      ]
     },
     "metadata": {
      "needs_background": "light"
     },
     "output_type": "display_data"
    }
   ],
   "source": [
    "data[\"Quantity\"].plot(title=\"Количество\", figsize=(10,1))"
   ]
  },
  {
   "cell_type": "markdown",
   "metadata": {},
   "source": [
    "data.groupby([\"Contry\"]).agg(\"mean\"))[\"Quanriry\"]"
   ]
  },
  {
   "cell_type": "code",
   "execution_count": 80,
   "metadata": {},
   "outputs": [
    {
     "data": {
      "text/plain": [
       "<matplotlib.axes._subplots.AxesSubplot at 0x94fa470>"
      ]
     },
     "execution_count": 80,
     "metadata": {},
     "output_type": "execute_result"
    },
    {
     "data": {
      "image/png": "[encoded data removed]",
      "text/plain": [
       "<Figure size 720x360 with 1 Axes>"
      ]
     },
     "metadata": {
      "needs_background": "light"
     },
     "output_type": "display_data"
    }
   ],
   "source": [
    "data.groupby(['Country']).agg('max')['Total'].plot.bar(figsize=(10,5))"
   ]
  },
  {
   "cell_type": "code",
   "execution_count": 84,
   "metadata": {},
   "outputs": [
    {
     "data": {
      "text/plain": [
       "Country\n",
       "Africa        402.666667\n",
       "Australia     552.333333\n",
       "India         285.666667\n",
       "Mylasia      4167.000000\n",
       "Singapore     659.000000\n",
       "UK            478.333333\n",
       "US           1363.333333\n",
       "Name: Quantity, dtype: float64"
      ]
     },
     "execution_count": 84,
     "metadata": {},
     "output_type": "execute_result"
    }
   ],
   "source": [
    "data.groupby(['Country']).agg('mean')['Quantity']"
   ]
  },
  {
   "cell_type": "markdown",
   "metadata": {},
   "source": [
    "Применение функций к столбцу"
   ]
  },
  {
   "cell_type": "code",
   "execution_count": 83,
   "metadata": {},
   "outputs": [
    {
     "data": {
      "text/plain": [
       "<matplotlib.axes._subplots.AxesSubplot at 0xa5e05f8>"
      ]
     },
     "execution_count": 83,
     "metadata": {},
     "output_type": "execute_result"
    },
    {
     "data": {
      "image/png": "[encoded data removed]",
      "text/plain": [
       "<Figure size 432x288 with 1 Axes>"
      ]
     },
     "metadata": {
      "needs_background": "light"
     },
     "output_type": "display_data"
    }
   ],
   "source": [
    "data['Quantity_proc'] = data['Quantity'].apply(lambda x: x/data['Quantity'].max())\n",
    "data['Total_proc'] = data['Total'].apply(lambda x: x/data['Total'].max())\n",
    "\n",
    "data[[\"Quantity_proc\",\"Total_proc\"]].plot.bar()"
   ]
  },
  {
   "cell_type": "markdown",
   "metadata": {},
   "source": [
    "# 3. Задание."
   ]
  },
  {
   "cell_type": "markdown",
   "metadata": {},
   "source": [
    "__1. Сколько уникальных Sales Person? (уникальность считается по паре страна, регион)__\n",
    "Подсказка: используйте .agg('nunique')"
   ]
  },
  {
   "cell_type": "code",
   "execution_count": 85,
   "metadata": {},
   "outputs": [
    {
     "data": {
      "text/plain": [
       "20"
      ]
     },
     "execution_count": 85,
     "metadata": {},
     "output_type": "execute_result"
    }
   ],
   "source": []
  },
  {
   "cell_type": "markdown",
   "metadata": {},
   "source": [
    "__2. В каком году было больше всего продаж? (Total)__\n",
    "Подсказка: создайте новую переменную \"год\""
   ]
  },
  {
   "cell_type": "code",
   "execution_count": 89,
   "metadata": {},
   "outputs": [
    {
     "data": {
      "text/plain": [
       "Total            2.740000e+07\n",
       "Quantity         9.424000e+03\n",
       "Quantity_proc    1.194423e+00\n",
       "Total_proc       1.053846e+00\n",
       "dtype: float64"
      ]
     },
     "execution_count": 89,
     "metadata": {},
     "output_type": "execute_result"
    }
   ],
   "source": []
  },
  {
   "cell_type": "markdown",
   "metadata": {},
   "source": [
    "__3. Нарисуйте barplot продаж (Total) по годам__"
   ]
  },
  {
   "cell_type": "code",
   "execution_count": null,
   "metadata": {},
   "outputs": [],
   "source": [
    "# Ваш код"
   ]
  },
  {
   "cell_type": "markdown",
   "metadata": {},
   "source": [
    "__4. Сделайте min-max scaling столбца Total__\n",
    "\n",
    "Структура min_max:\n",
    "\n",
    "    min = минимальный элемент в столбце\n",
    "    max = максимальный элемент в столбце\n",
    "    \n",
    "    x_new = (x-min)/(max-min)\n",
    "    \n",
    "    Вам нужно создать новую переменную с таким значением"
   ]
  },
  {
   "cell_type": "code",
   "execution_count": null,
   "metadata": {},
   "outputs": [],
   "source": [
    "# Ваш код"
   ]
  },
  {
   "cell_type": "markdown",
   "metadata": {},
   "source": [
    "__5. Постройте график (barplot) для полученных в прошлом номере значений__"
   ]
  },
  {
   "cell_type": "code",
   "execution_count": null,
   "metadata": {},
   "outputs": [],
   "source": [
    "# Ваш код"
   ]
  }
 ],
 "metadata": {
  "kernelspec": {
   "display_name": "Python 3",
   "language": "python",
   "name": "python3"
  },
  "language_info": {
   "codemirror_mode": {
    "name": "ipython",
    "version": 3
   },
   "file_extension": ".py",
   "mimetype": "text/x-python",
   "name": "python",
   "nbconvert_exporter": "python",
   "pygments_lexer": "ipython3",
   "version": "3.7.1"
  }
 },
 "nbformat": 4,
 "nbformat_minor": 2
}
